{
 "cells": [
  {
   "cell_type": "markdown",
   "metadata": {},
   "source": [
    "# Using LSTM to predict NVDA prices\n",
    "\n",
    "Using LSTM:\n",
    "- Maintains an internal state, allowing it to have memory of previous inputs\n",
    "\n",
    "1.\tHandling Sequential Data: LSTM (Long Short-Term Memory) networks are specifically designed to handle and predict sequences of data, making them well-suited for time series forecasting like stock prices.\n",
    "2.\tCapturing Long-Term Dependencies: LSTM networks can remember information for long periods, thanks to their ability to maintain a memory cell that updates and forgets information over time. This is crucial for stock price prediction, where historical data can influence future values."
   ]
  },
  {
   "cell_type": "code",
   "execution_count": 10,
   "metadata": {},
   "outputs": [],
   "source": [
    "# importing libraries\n",
    "\n",
    "import pandas as pd # data visualization\n",
    "import numpy as np # number manipulation\n",
    "from sklearn.preprocessing import MinMaxScaler # helps to normalize data\n",
    "from keras.models import Sequential # allows you to build a NN in a sequential stack\n",
    "from keras.layers import LSTM, Dense # to define the neural network being used + hidden layers\n",
    "\n",
    "# note that need to pip install tensorflow - keras is built on tensorflow"
   ]
  },
  {
   "cell_type": "code",
   "execution_count": 11,
   "metadata": {},
   "outputs": [],
   "source": [
    "# Load and preprocess data\n",
    "data = pd.read_csv('./NVDA.csv') # use pandas to read the given csv file\n",
    "data = data[['Date', 'Close']]\n",
    "data['Date'] = pd.to_datetime(data['Date'])\n",
    "data.set_index('Date', inplace=True)\n",
    "\n",
    "scaler = MinMaxScaler(feature_range=(0, 1))\n",
    "scaled_data = scaler.fit_transform(data)"
   ]
  }
 ],
 "metadata": {
  "kernelspec": {
   "display_name": "myenv",
   "language": "python",
   "name": "python3"
  },
  "language_info": {
   "codemirror_mode": {
    "name": "ipython",
    "version": 3
   },
   "file_extension": ".py",
   "mimetype": "text/x-python",
   "name": "python",
   "nbconvert_exporter": "python",
   "pygments_lexer": "ipython3",
   "version": "3.8.10"
  }
 },
 "nbformat": 4,
 "nbformat_minor": 2
}
